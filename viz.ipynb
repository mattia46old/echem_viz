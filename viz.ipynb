{
 "cells": [
  {
   "cell_type": "code",
   "execution_count": 26,
   "metadata": {},
   "outputs": [],
   "source": [
    "import readclass\n",
    "import os\n",
    "import matplotlib.pyplot as plt\n",
    "from matplotlib.pyplot import cm \n",
    "import numpy as np"
   ]
  },
  {
   "cell_type": "code",
   "execution_count": 25,
   "metadata": {},
   "outputs": [],
   "source": [
    "# collect folder paths\n",
    "lstF = []\n",
    "for i in os.listdir():\n",
    "    if (os.path.isdir(i)) & (\"Sample\" in i):\n",
    "        lstF.append(i)\n",
    "\n",
    "# gather all the files in folders in list and split in samples-wise\n",
    "sample1 = []\n",
    "sample2 = []\n",
    "sample3 = []\n",
    "sample4 = []\n",
    "\n",
    "for i in lstF:\n",
    "    for j in os.listdir(i):\n",
    "        if \"Sample_1\" in j:\n",
    "            sample1.append(os.path.join(i, j))\n",
    "        elif \"Sample_2\" in j:\n",
    "            sample2.append(os.path.join(i, j))\n",
    "        elif \"Sample_3\" in j:\n",
    "            sample3.append(os.path.join(i, j))\n",
    "        else:\n",
    "            sample4.append(os.path.join(i, j))\n"
   ]
  },
  {
   "cell_type": "code",
   "execution_count": null,
   "metadata": {},
   "outputs": [
    {
     "name": "stdout",
     "output_type": "stream",
     "text": [
      "[ 1  2  3  4  5  6  7  8  9 10 11 12 13 14 15 16 17 18 19 20 21 22]\n"
     ]
    }
   ],
   "source": [
    "# order cycle number:\n",
    "cycles = np.arange(1, 23)\n"
   ]
  },
  {
   "cell_type": "code",
   "execution_count": null,
   "metadata": {},
   "outputs": [],
   "source": []
  }
 ],
 "metadata": {
  "kernelspec": {
   "display_name": "mypyvenv",
   "language": "python",
   "name": "mypyvenv"
  },
  "language_info": {
   "codemirror_mode": {
    "name": "ipython",
    "version": 3
   },
   "file_extension": ".py",
   "mimetype": "text/x-python",
   "name": "python",
   "nbconvert_exporter": "python",
   "pygments_lexer": "ipython3",
   "version": "3.10.12"
  }
 },
 "nbformat": 4,
 "nbformat_minor": 2
}
